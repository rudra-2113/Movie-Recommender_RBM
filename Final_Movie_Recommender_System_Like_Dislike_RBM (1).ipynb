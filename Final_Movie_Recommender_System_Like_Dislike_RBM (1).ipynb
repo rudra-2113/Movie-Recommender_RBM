{
  "nbformat": 4,
  "nbformat_minor": 0,
  "metadata": {
    "colab": {
      "name": "Final_Movie_Recommender_System_Like_Dislike_RBM.ipynb",
      "provenance": [],
      "collapsed_sections": []
    },
    "kernelspec": {
      "display_name": "Python 3",
      "language": "python",
      "name": "python3"
    },
    "language_info": {
      "codemirror_mode": {
        "name": "ipython",
        "version": 3
      },
      "file_extension": ".py",
      "mimetype": "text/x-python",
      "name": "python",
      "nbconvert_exporter": "python",
      "pygments_lexer": "ipython3",
      "version": "3.8.10"
    }
  },
  "cells": [
    {
      "cell_type": "markdown",
      "metadata": {
        "id": "tm_YTH0VnR4J"
      },
      "source": [
        "# Getting The Dataset"
      ]
    },
    {
      "cell_type": "code",
      "metadata": {
        "id": "ewYSWjlIIa6R",
        "colab": {
          "base_uri": "https://localhost:8080/"
        },
        "outputId": "5996c877-68b0-4361-b80e-2c7c2e0fb333"
      },
      "source": [
        "!wget \"http://files.grouplens.org/datasets/movielens/ml-1m.zip\"\n",
        "!unzip ml-1m.zip\n",
        "!ls"
      ],
      "execution_count": null,
      "outputs": [
        {
          "output_type": "stream",
          "text": [
            "--2021-06-09 21:17:46--  http://files.grouplens.org/datasets/movielens/ml-1m.zip\n",
            "Resolving files.grouplens.org (files.grouplens.org)... 128.101.65.152\n",
            "Connecting to files.grouplens.org (files.grouplens.org)|128.101.65.152|:80... connected.\n",
            "HTTP request sent, awaiting response... 200 OK\n",
            "Length: 5917549 (5.6M) [application/zip]\n",
            "Saving to: ‘ml-1m.zip’\n",
            "\n",
            "ml-1m.zip           100%[===================>]   5.64M  19.9MB/s    in 0.3s    \n",
            "\n",
            "2021-06-09 21:17:47 (19.9 MB/s) - ‘ml-1m.zip’ saved [5917549/5917549]\n",
            "\n",
            "Archive:  ml-1m.zip\n",
            "   creating: ml-1m/\n",
            "  inflating: ml-1m/movies.dat        \n",
            "  inflating: ml-1m/ratings.dat       \n",
            "  inflating: ml-1m/README            \n",
            "  inflating: ml-1m/users.dat         \n",
            "ml-1m  ml-1m.zip  sample_data\n"
          ],
          "name": "stdout"
        }
      ]
    },
    {
      "cell_type": "markdown",
      "metadata": {
        "id": "sdtXL56snWj2"
      },
      "source": [
        "# Importing The Librarires"
      ]
    },
    {
      "cell_type": "code",
      "metadata": {
        "id": "ILGu-_sQnv96"
      },
      "source": [
        "import pandas as pd\n",
        "import matplotlib.pyplot as plt\n",
        "import seaborn as sns\n",
        "import numpy as np\n",
        "import torch\n",
        "import torch.nn as nn\n",
        "import torch.nn.parallel"
      ],
      "execution_count": null,
      "outputs": []
    },
    {
      "cell_type": "markdown",
      "metadata": {
        "id": "pYWGrL4gtYh2"
      },
      "source": [
        "# Users Data Information\n",
        "- Gender is denoted by a \"M\" for male and \"F\" for female\n",
        "- Age is chosen from the following ranges:\n",
        "\n",
        "    1:  \"Under 18\",\n",
        "    18:  \"18-24\",\n",
        "    25:  \"25-34\",\n",
        "    35:  \"35-44\",\n",
        "    45:  \"45-49\",\n",
        "    50:  \"50-55\",\n",
        "    56:  \"56+\",\n",
        "    \n",
        "- Occupation is chosen from the following choices:\n",
        "\n",
        "    0:  \"other\" or not specified,\n",
        "    1:  \"academic/educator\",\n",
        "    2:  \"artist\",\n",
        "    3:  \"clerical/admin\",\n",
        "    4:  \"college/grad student\",\n",
        "    5:  \"customer service\",\n",
        "    6:  \"doctor/health care\",\n",
        "    7:  \"executive/managerial\",\n",
        "    8:  \"farmer\",\n",
        "    9:  \"homemaker\",\n",
        "    10:  \"K-12 student\",\n",
        "    11:  \"lawyer\",\n",
        "    12:  \"programmer\",\n",
        "    13:  \"retired\",\n",
        "    14:  \"sales/marketing\",\n",
        "    15:  \"scientist\",\n",
        "    16:  \"self-employed\",\n",
        "    17:  \"technician/engineer\",\n",
        "    18:  \"tradesman/craftsman\",\n",
        "    19:  \"unemployed\",\n",
        "    20:  \"writer\"."
      ]
    },
    {
      "cell_type": "markdown",
      "metadata": {
        "id": "dXgAdM7TnXQ3"
      },
      "source": [
        "# List Of Movies With Their Respective Genre"
      ]
    },
    {
      "cell_type": "code",
      "metadata": {
        "colab": {
          "base_uri": "https://localhost:8080/",
          "height": 447
        },
        "id": "P8DjcbSYn460",
        "outputId": "164d061f-e909-4fe7-90d5-e835580b7cb5"
      },
      "source": [
        "movies= pd.read_csv('ml-1m/movies.dat',sep='::',encoding='latin-1', engine='python',header= None)\n",
        "movies.rename(columns={0:'Movie ID',1:'Movie',2:'Genre'},inplace=True)\n",
        "movies.index.name='ser no.'\n",
        "movies.head(len(movies))"
      ],
      "execution_count": null,
      "outputs": [
        {
          "output_type": "execute_result",
          "data": {
            "text/html": [
              "<div>\n",
              "<style scoped>\n",
              "    .dataframe tbody tr th:only-of-type {\n",
              "        vertical-align: middle;\n",
              "    }\n",
              "\n",
              "    .dataframe tbody tr th {\n",
              "        vertical-align: top;\n",
              "    }\n",
              "\n",
              "    .dataframe thead th {\n",
              "        text-align: right;\n",
              "    }\n",
              "</style>\n",
              "<table border=\"1\" class=\"dataframe\">\n",
              "  <thead>\n",
              "    <tr style=\"text-align: right;\">\n",
              "      <th></th>\n",
              "      <th>Movie ID</th>\n",
              "      <th>Movie</th>\n",
              "      <th>Genre</th>\n",
              "    </tr>\n",
              "    <tr>\n",
              "      <th>ser no.</th>\n",
              "      <th></th>\n",
              "      <th></th>\n",
              "      <th></th>\n",
              "    </tr>\n",
              "  </thead>\n",
              "  <tbody>\n",
              "    <tr>\n",
              "      <th>0</th>\n",
              "      <td>1</td>\n",
              "      <td>Toy Story (1995)</td>\n",
              "      <td>Animation|Children's|Comedy</td>\n",
              "    </tr>\n",
              "    <tr>\n",
              "      <th>1</th>\n",
              "      <td>2</td>\n",
              "      <td>Jumanji (1995)</td>\n",
              "      <td>Adventure|Children's|Fantasy</td>\n",
              "    </tr>\n",
              "    <tr>\n",
              "      <th>2</th>\n",
              "      <td>3</td>\n",
              "      <td>Grumpier Old Men (1995)</td>\n",
              "      <td>Comedy|Romance</td>\n",
              "    </tr>\n",
              "    <tr>\n",
              "      <th>3</th>\n",
              "      <td>4</td>\n",
              "      <td>Waiting to Exhale (1995)</td>\n",
              "      <td>Comedy|Drama</td>\n",
              "    </tr>\n",
              "    <tr>\n",
              "      <th>4</th>\n",
              "      <td>5</td>\n",
              "      <td>Father of the Bride Part II (1995)</td>\n",
              "      <td>Comedy</td>\n",
              "    </tr>\n",
              "    <tr>\n",
              "      <th>...</th>\n",
              "      <td>...</td>\n",
              "      <td>...</td>\n",
              "      <td>...</td>\n",
              "    </tr>\n",
              "    <tr>\n",
              "      <th>3878</th>\n",
              "      <td>3948</td>\n",
              "      <td>Meet the Parents (2000)</td>\n",
              "      <td>Comedy</td>\n",
              "    </tr>\n",
              "    <tr>\n",
              "      <th>3879</th>\n",
              "      <td>3949</td>\n",
              "      <td>Requiem for a Dream (2000)</td>\n",
              "      <td>Drama</td>\n",
              "    </tr>\n",
              "    <tr>\n",
              "      <th>3880</th>\n",
              "      <td>3950</td>\n",
              "      <td>Tigerland (2000)</td>\n",
              "      <td>Drama</td>\n",
              "    </tr>\n",
              "    <tr>\n",
              "      <th>3881</th>\n",
              "      <td>3951</td>\n",
              "      <td>Two Family House (2000)</td>\n",
              "      <td>Drama</td>\n",
              "    </tr>\n",
              "    <tr>\n",
              "      <th>3882</th>\n",
              "      <td>3952</td>\n",
              "      <td>Contender, The (2000)</td>\n",
              "      <td>Drama|Thriller</td>\n",
              "    </tr>\n",
              "  </tbody>\n",
              "</table>\n",
              "<p>3883 rows × 3 columns</p>\n",
              "</div>"
            ],
            "text/plain": [
              "         Movie ID  ...                         Genre\n",
              "ser no.            ...                              \n",
              "0               1  ...   Animation|Children's|Comedy\n",
              "1               2  ...  Adventure|Children's|Fantasy\n",
              "2               3  ...                Comedy|Romance\n",
              "3               4  ...                  Comedy|Drama\n",
              "4               5  ...                        Comedy\n",
              "...           ...  ...                           ...\n",
              "3878         3948  ...                        Comedy\n",
              "3879         3949  ...                         Drama\n",
              "3880         3950  ...                         Drama\n",
              "3881         3951  ...                         Drama\n",
              "3882         3952  ...                Drama|Thriller\n",
              "\n",
              "[3883 rows x 3 columns]"
            ]
          },
          "metadata": {
            "tags": []
          },
          "execution_count": 13
        }
      ]
    },
    {
      "cell_type": "markdown",
      "metadata": {
        "id": "41lyYIyynYJy"
      },
      "source": [
        "# List Of Movies With User Id,Movie ID and Movie Ratings"
      ]
    },
    {
      "cell_type": "code",
      "metadata": {
        "colab": {
          "base_uri": "https://localhost:8080/",
          "height": 447
        },
        "id": "JJqtulNxoKxI",
        "outputId": "aeb69938-553a-4ee9-a7c2-5bec1028f2bf"
      },
      "source": [
        "ratings= pd.read_csv('ml-1m/ratings.dat',sep ='::',encoding='latin-1', engine= 'python',header=None)\n",
        "ratings.rename(columns={0:'User Id',1:'Movie ID',2:'Ratings',3:'Time Stamp'},inplace= True)\n",
        "ratings.index.name = 'ser no.'\n",
        "ratings.head(len(ratings))"
      ],
      "execution_count": null,
      "outputs": [
        {
          "output_type": "execute_result",
          "data": {
            "text/html": [
              "<div>\n",
              "<style scoped>\n",
              "    .dataframe tbody tr th:only-of-type {\n",
              "        vertical-align: middle;\n",
              "    }\n",
              "\n",
              "    .dataframe tbody tr th {\n",
              "        vertical-align: top;\n",
              "    }\n",
              "\n",
              "    .dataframe thead th {\n",
              "        text-align: right;\n",
              "    }\n",
              "</style>\n",
              "<table border=\"1\" class=\"dataframe\">\n",
              "  <thead>\n",
              "    <tr style=\"text-align: right;\">\n",
              "      <th></th>\n",
              "      <th>User Id</th>\n",
              "      <th>Movie ID</th>\n",
              "      <th>Ratings</th>\n",
              "      <th>Time Stamp</th>\n",
              "    </tr>\n",
              "    <tr>\n",
              "      <th>ser no.</th>\n",
              "      <th></th>\n",
              "      <th></th>\n",
              "      <th></th>\n",
              "      <th></th>\n",
              "    </tr>\n",
              "  </thead>\n",
              "  <tbody>\n",
              "    <tr>\n",
              "      <th>0</th>\n",
              "      <td>1</td>\n",
              "      <td>1193</td>\n",
              "      <td>5</td>\n",
              "      <td>978300760</td>\n",
              "    </tr>\n",
              "    <tr>\n",
              "      <th>1</th>\n",
              "      <td>1</td>\n",
              "      <td>661</td>\n",
              "      <td>3</td>\n",
              "      <td>978302109</td>\n",
              "    </tr>\n",
              "    <tr>\n",
              "      <th>2</th>\n",
              "      <td>1</td>\n",
              "      <td>914</td>\n",
              "      <td>3</td>\n",
              "      <td>978301968</td>\n",
              "    </tr>\n",
              "    <tr>\n",
              "      <th>3</th>\n",
              "      <td>1</td>\n",
              "      <td>3408</td>\n",
              "      <td>4</td>\n",
              "      <td>978300275</td>\n",
              "    </tr>\n",
              "    <tr>\n",
              "      <th>4</th>\n",
              "      <td>1</td>\n",
              "      <td>2355</td>\n",
              "      <td>5</td>\n",
              "      <td>978824291</td>\n",
              "    </tr>\n",
              "    <tr>\n",
              "      <th>...</th>\n",
              "      <td>...</td>\n",
              "      <td>...</td>\n",
              "      <td>...</td>\n",
              "      <td>...</td>\n",
              "    </tr>\n",
              "    <tr>\n",
              "      <th>1000204</th>\n",
              "      <td>6040</td>\n",
              "      <td>1091</td>\n",
              "      <td>1</td>\n",
              "      <td>956716541</td>\n",
              "    </tr>\n",
              "    <tr>\n",
              "      <th>1000205</th>\n",
              "      <td>6040</td>\n",
              "      <td>1094</td>\n",
              "      <td>5</td>\n",
              "      <td>956704887</td>\n",
              "    </tr>\n",
              "    <tr>\n",
              "      <th>1000206</th>\n",
              "      <td>6040</td>\n",
              "      <td>562</td>\n",
              "      <td>5</td>\n",
              "      <td>956704746</td>\n",
              "    </tr>\n",
              "    <tr>\n",
              "      <th>1000207</th>\n",
              "      <td>6040</td>\n",
              "      <td>1096</td>\n",
              "      <td>4</td>\n",
              "      <td>956715648</td>\n",
              "    </tr>\n",
              "    <tr>\n",
              "      <th>1000208</th>\n",
              "      <td>6040</td>\n",
              "      <td>1097</td>\n",
              "      <td>4</td>\n",
              "      <td>956715569</td>\n",
              "    </tr>\n",
              "  </tbody>\n",
              "</table>\n",
              "<p>1000209 rows × 4 columns</p>\n",
              "</div>"
            ],
            "text/plain": [
              "         User Id  Movie ID  Ratings  Time Stamp\n",
              "ser no.                                        \n",
              "0              1      1193        5   978300760\n",
              "1              1       661        3   978302109\n",
              "2              1       914        3   978301968\n",
              "3              1      3408        4   978300275\n",
              "4              1      2355        5   978824291\n",
              "...          ...       ...      ...         ...\n",
              "1000204     6040      1091        1   956716541\n",
              "1000205     6040      1094        5   956704887\n",
              "1000206     6040       562        5   956704746\n",
              "1000207     6040      1096        4   956715648\n",
              "1000208     6040      1097        4   956715569\n",
              "\n",
              "[1000209 rows x 4 columns]"
            ]
          },
          "metadata": {
            "tags": []
          },
          "execution_count": 14
        }
      ]
    },
    {
      "cell_type": "markdown",
      "metadata": {
        "id": "24RzP0vPoNvk"
      },
      "source": [
        "# List Of Users With Their Gender (F/M),Age,etc"
      ]
    },
    {
      "cell_type": "code",
      "metadata": {
        "colab": {
          "base_uri": "https://localhost:8080/",
          "height": 447
        },
        "id": "Pl700Rqsobd3",
        "outputId": "9f176044-73aa-4ce5-e773-b7c8450b4ea1"
      },
      "source": [
        "users= pd.read_csv('ml-1m/users.dat', sep ='::',encoding= 'latin-1',header =None, engine='python')\n",
        "users.rename(columns={0:'User Id',1:'Gender',2:'Age',3:'Occupation',4:'Zip-code'},inplace =True)\n",
        "users.index.name ='ser no.'\n",
        "users.head(len(users))"
      ],
      "execution_count": null,
      "outputs": [
        {
          "output_type": "execute_result",
          "data": {
            "text/html": [
              "<div>\n",
              "<style scoped>\n",
              "    .dataframe tbody tr th:only-of-type {\n",
              "        vertical-align: middle;\n",
              "    }\n",
              "\n",
              "    .dataframe tbody tr th {\n",
              "        vertical-align: top;\n",
              "    }\n",
              "\n",
              "    .dataframe thead th {\n",
              "        text-align: right;\n",
              "    }\n",
              "</style>\n",
              "<table border=\"1\" class=\"dataframe\">\n",
              "  <thead>\n",
              "    <tr style=\"text-align: right;\">\n",
              "      <th></th>\n",
              "      <th>User Id</th>\n",
              "      <th>Gender</th>\n",
              "      <th>Age</th>\n",
              "      <th>Occupation</th>\n",
              "      <th>Zip-code</th>\n",
              "    </tr>\n",
              "    <tr>\n",
              "      <th>ser no.</th>\n",
              "      <th></th>\n",
              "      <th></th>\n",
              "      <th></th>\n",
              "      <th></th>\n",
              "      <th></th>\n",
              "    </tr>\n",
              "  </thead>\n",
              "  <tbody>\n",
              "    <tr>\n",
              "      <th>0</th>\n",
              "      <td>1</td>\n",
              "      <td>F</td>\n",
              "      <td>1</td>\n",
              "      <td>10</td>\n",
              "      <td>48067</td>\n",
              "    </tr>\n",
              "    <tr>\n",
              "      <th>1</th>\n",
              "      <td>2</td>\n",
              "      <td>M</td>\n",
              "      <td>56</td>\n",
              "      <td>16</td>\n",
              "      <td>70072</td>\n",
              "    </tr>\n",
              "    <tr>\n",
              "      <th>2</th>\n",
              "      <td>3</td>\n",
              "      <td>M</td>\n",
              "      <td>25</td>\n",
              "      <td>15</td>\n",
              "      <td>55117</td>\n",
              "    </tr>\n",
              "    <tr>\n",
              "      <th>3</th>\n",
              "      <td>4</td>\n",
              "      <td>M</td>\n",
              "      <td>45</td>\n",
              "      <td>7</td>\n",
              "      <td>02460</td>\n",
              "    </tr>\n",
              "    <tr>\n",
              "      <th>4</th>\n",
              "      <td>5</td>\n",
              "      <td>M</td>\n",
              "      <td>25</td>\n",
              "      <td>20</td>\n",
              "      <td>55455</td>\n",
              "    </tr>\n",
              "    <tr>\n",
              "      <th>...</th>\n",
              "      <td>...</td>\n",
              "      <td>...</td>\n",
              "      <td>...</td>\n",
              "      <td>...</td>\n",
              "      <td>...</td>\n",
              "    </tr>\n",
              "    <tr>\n",
              "      <th>6035</th>\n",
              "      <td>6036</td>\n",
              "      <td>F</td>\n",
              "      <td>25</td>\n",
              "      <td>15</td>\n",
              "      <td>32603</td>\n",
              "    </tr>\n",
              "    <tr>\n",
              "      <th>6036</th>\n",
              "      <td>6037</td>\n",
              "      <td>F</td>\n",
              "      <td>45</td>\n",
              "      <td>1</td>\n",
              "      <td>76006</td>\n",
              "    </tr>\n",
              "    <tr>\n",
              "      <th>6037</th>\n",
              "      <td>6038</td>\n",
              "      <td>F</td>\n",
              "      <td>56</td>\n",
              "      <td>1</td>\n",
              "      <td>14706</td>\n",
              "    </tr>\n",
              "    <tr>\n",
              "      <th>6038</th>\n",
              "      <td>6039</td>\n",
              "      <td>F</td>\n",
              "      <td>45</td>\n",
              "      <td>0</td>\n",
              "      <td>01060</td>\n",
              "    </tr>\n",
              "    <tr>\n",
              "      <th>6039</th>\n",
              "      <td>6040</td>\n",
              "      <td>M</td>\n",
              "      <td>25</td>\n",
              "      <td>6</td>\n",
              "      <td>11106</td>\n",
              "    </tr>\n",
              "  </tbody>\n",
              "</table>\n",
              "<p>6040 rows × 5 columns</p>\n",
              "</div>"
            ],
            "text/plain": [
              "         User Id Gender  Age  Occupation Zip-code\n",
              "ser no.                                          \n",
              "0              1      F    1          10    48067\n",
              "1              2      M   56          16    70072\n",
              "2              3      M   25          15    55117\n",
              "3              4      M   45           7    02460\n",
              "4              5      M   25          20    55455\n",
              "...          ...    ...  ...         ...      ...\n",
              "6035        6036      F   25          15    32603\n",
              "6036        6037      F   45           1    76006\n",
              "6037        6038      F   56           1    14706\n",
              "6038        6039      F   45           0    01060\n",
              "6039        6040      M   25           6    11106\n",
              "\n",
              "[6040 rows x 5 columns]"
            ]
          },
          "metadata": {
            "tags": []
          },
          "execution_count": 15
        }
      ]
    },
    {
      "cell_type": "markdown",
      "metadata": {
        "id": "y8_0Fa0dIa6i"
      },
      "source": [
        "# Users Data Statistics & Analysis\n"
      ]
    },
    {
      "cell_type": "markdown",
      "metadata": {
        "id": "Tlmk2MAHNGBh"
      },
      "source": [
        "# Getting an idea of Users vs Gender(M=Male,F=Female)"
      ]
    },
    {
      "cell_type": "code",
      "metadata": {
        "id": "diBEFqrpIa6l",
        "colab": {
          "base_uri": "https://localhost:8080/",
          "height": 110
        },
        "outputId": "49df5600-7909-4a35-d2df-138720725f81"
      },
      "source": [
        "from pandas import DataFrame            \n",
        "Gender=users.Gender.value_counts()  \n",
        "Gender_statistics = DataFrame(Gender)\n",
        "Gender_statistics"
      ],
      "execution_count": null,
      "outputs": [
        {
          "output_type": "execute_result",
          "data": {
            "text/html": [
              "<div>\n",
              "<style scoped>\n",
              "    .dataframe tbody tr th:only-of-type {\n",
              "        vertical-align: middle;\n",
              "    }\n",
              "\n",
              "    .dataframe tbody tr th {\n",
              "        vertical-align: top;\n",
              "    }\n",
              "\n",
              "    .dataframe thead th {\n",
              "        text-align: right;\n",
              "    }\n",
              "</style>\n",
              "<table border=\"1\" class=\"dataframe\">\n",
              "  <thead>\n",
              "    <tr style=\"text-align: right;\">\n",
              "      <th></th>\n",
              "      <th>Gender</th>\n",
              "    </tr>\n",
              "  </thead>\n",
              "  <tbody>\n",
              "    <tr>\n",
              "      <th>M</th>\n",
              "      <td>4331</td>\n",
              "    </tr>\n",
              "    <tr>\n",
              "      <th>F</th>\n",
              "      <td>1709</td>\n",
              "    </tr>\n",
              "  </tbody>\n",
              "</table>\n",
              "</div>"
            ],
            "text/plain": [
              "   Gender\n",
              "M    4331\n",
              "F    1709"
            ]
          },
          "metadata": {
            "tags": []
          },
          "execution_count": 16
        }
      ]
    },
    {
      "cell_type": "code",
      "metadata": {
        "id": "NbwPZ05GIa6n",
        "colab": {
          "base_uri": "https://localhost:8080/",
          "height": 264
        },
        "outputId": "341b52ff-5e84-44f1-a612-cca62839c452"
      },
      "source": [
        "%matplotlib inline\n",
        "plt.pie(Gender,labels=['M(Male)','F(Female)'])\n",
        "plt.title('Users Vs Gender')\n",
        "plt.show()"
      ],
      "execution_count": null,
      "outputs": [
        {
          "output_type": "display_data",
          "data": {
            "image/png": "[encoded data removed]",
            "text/plain": [
              "<Figure size 432x288 with 1 Axes>"
            ]
          },
          "metadata": {
            "tags": []
          }
        }
      ]
    },
    {
      "cell_type": "markdown",
      "metadata": {
        "id": "3aS9lqUyNSfo"
      },
      "source": [
        "# Getting an idea of Users vs Age groups"
      ]
    },
    {
      "cell_type": "code",
      "metadata": {
        "id": "vVbvsjtAIa6o",
        "colab": {
          "base_uri": "https://localhost:8080/",
          "height": 295
        },
        "outputId": "3ff890c0-ad2c-44fb-8ca8-741ff15de02f"
      },
      "source": [
        "Age_group_=users.Age.value_counts()          \n",
        "Age_group_statistics =DataFrame(Age_group_)\n",
        "Age_group_statistics.rename(columns={'Age':'No. of Users'},\n",
        "                            index={1:\"Under 18\", 18:'18-24', 25:'25-34',35:'35-44', 45:'45-49', 50:'50-55' ,56:'56+'},\n",
        "                            inplace=True)\n",
        "Age_group_statistics.index.name = 'Age Group'\n",
        "Age_group_statistics.sort_index(inplace=True)\n",
        "Age_group_statistics.head(len(Age_group_statistics))"
      ],
      "execution_count": null,
      "outputs": [
        {
          "output_type": "execute_result",
          "data": {
            "text/html": [
              "<div>\n",
              "<style scoped>\n",
              "    .dataframe tbody tr th:only-of-type {\n",
              "        vertical-align: middle;\n",
              "    }\n",
              "\n",
              "    .dataframe tbody tr th {\n",
              "        vertical-align: top;\n",
              "    }\n",
              "\n",
              "    .dataframe thead th {\n",
              "        text-align: right;\n",
              "    }\n",
              "</style>\n",
              "<table border=\"1\" class=\"dataframe\">\n",
              "  <thead>\n",
              "    <tr style=\"text-align: right;\">\n",
              "      <th></th>\n",
              "      <th>No. of Users</th>\n",
              "    </tr>\n",
              "    <tr>\n",
              "      <th>Age Group</th>\n",
              "      <th></th>\n",
              "    </tr>\n",
              "  </thead>\n",
              "  <tbody>\n",
              "    <tr>\n",
              "      <th>18-24</th>\n",
              "      <td>1103</td>\n",
              "    </tr>\n",
              "    <tr>\n",
              "      <th>25-34</th>\n",
              "      <td>2096</td>\n",
              "    </tr>\n",
              "    <tr>\n",
              "      <th>35-44</th>\n",
              "      <td>1193</td>\n",
              "    </tr>\n",
              "    <tr>\n",
              "      <th>45-49</th>\n",
              "      <td>550</td>\n",
              "    </tr>\n",
              "    <tr>\n",
              "      <th>50-55</th>\n",
              "      <td>496</td>\n",
              "    </tr>\n",
              "    <tr>\n",
              "      <th>56+</th>\n",
              "      <td>380</td>\n",
              "    </tr>\n",
              "    <tr>\n",
              "      <th>Under 18</th>\n",
              "      <td>222</td>\n",
              "    </tr>\n",
              "  </tbody>\n",
              "</table>\n",
              "</div>"
            ],
            "text/plain": [
              "           No. of Users\n",
              "Age Group              \n",
              "18-24              1103\n",
              "25-34              2096\n",
              "35-44              1193\n",
              "45-49               550\n",
              "50-55               496\n",
              "56+                 380\n",
              "Under 18            222"
            ]
          },
          "metadata": {
            "tags": []
          },
          "execution_count": 29
        }
      ]
    },
    {
      "cell_type": "code",
      "metadata": {
        "id": "I2y-NSB8Ia6q",
        "colab": {
          "base_uri": "https://localhost:8080/",
          "height": 573
        },
        "outputId": "e97f3c3a-66da-4059-cbc2-0c9728d764df"
      },
      "source": [
        "%matplotlib inline\n",
        "plt.hist(users.Age,bins=[0,18,25,35,45,50,56,80],histtype='bar')  \n",
        "plt.xlabel('age groups')\n",
        "plt.ylabel('No. of Users')\n",
        "plt.title('Users vs Age group')\n",
        "plt.show()\n",
        "\n",
        "#using KDE plot to represent the Density of Users vs Age group\n",
        "sns.kdeplot(users.Age,shade=True)\n",
        "plt.title('Kernel Density Estimation of Users Vs Age Group')\n",
        "plt.show()"
      ],
      "execution_count": null,
      "outputs": [
        {
          "output_type": "display_data",
          "data": {
            "image/png": "[encoded data removed]",
            "text/plain": [
              "<Figure size 432x288 with 1 Axes>"
            ]
          },
          "metadata": {
            "tags": [],
            "needs_background": "light"
          }
        },
        {
          "output_type": "display_data",
          "data": {
            "image/png": "[encoded data removed]",
            "text/plain": [
              "<Figure size 432x288 with 1 Axes>"
            ]
          },
          "metadata": {
            "tags": [],
            "needs_background": "light"
          }
        }
      ]
    },
    {
      "cell_type": "markdown",
      "metadata": {
        "id": "6yLMtEWrNgQ-"
      },
      "source": [
        "# Getting an idea of Users vs Occupation"
      ]
    },
    {
      "cell_type": "code",
      "metadata": {
        "id": "88P6L8eIIa6r",
        "colab": {
          "base_uri": "https://localhost:8080/",
          "height": 726
        },
        "outputId": "f67e1999-5999-49fd-dfe0-d573f03eb4cc"
      },
      "source": [
        "Occupation= users.Occupation.value_counts()  \n",
        "Occupation_statistics = DataFrame(Occupation)\n",
        "Occupation_statistics.rename(columns={'Occupation':'No.of Users'},inplace=True)\n",
        "Occupation_statistics.index.name='Occupation Category'\n",
        "Occupation_statistics.sort_index(inplace=True)\n",
        "Occupation_statistics"
      ],
      "execution_count": null,
      "outputs": [
        {
          "output_type": "execute_result",
          "data": {
            "text/html": [
              "<div>\n",
              "<style scoped>\n",
              "    .dataframe tbody tr th:only-of-type {\n",
              "        vertical-align: middle;\n",
              "    }\n",
              "\n",
              "    .dataframe tbody tr th {\n",
              "        vertical-align: top;\n",
              "    }\n",
              "\n",
              "    .dataframe thead th {\n",
              "        text-align: right;\n",
              "    }\n",
              "</style>\n",
              "<table border=\"1\" class=\"dataframe\">\n",
              "  <thead>\n",
              "    <tr style=\"text-align: right;\">\n",
              "      <th></th>\n",
              "      <th>No.of Users</th>\n",
              "    </tr>\n",
              "    <tr>\n",
              "      <th>Occupation Category</th>\n",
              "      <th></th>\n",
              "    </tr>\n",
              "  </thead>\n",
              "  <tbody>\n",
              "    <tr>\n",
              "      <th>0</th>\n",
              "      <td>711</td>\n",
              "    </tr>\n",
              "    <tr>\n",
              "      <th>1</th>\n",
              "      <td>528</td>\n",
              "    </tr>\n",
              "    <tr>\n",
              "      <th>2</th>\n",
              "      <td>267</td>\n",
              "    </tr>\n",
              "    <tr>\n",
              "      <th>3</th>\n",
              "      <td>173</td>\n",
              "    </tr>\n",
              "    <tr>\n",
              "      <th>4</th>\n",
              "      <td>759</td>\n",
              "    </tr>\n",
              "    <tr>\n",
              "      <th>5</th>\n",
              "      <td>112</td>\n",
              "    </tr>\n",
              "    <tr>\n",
              "      <th>6</th>\n",
              "      <td>236</td>\n",
              "    </tr>\n",
              "    <tr>\n",
              "      <th>7</th>\n",
              "      <td>679</td>\n",
              "    </tr>\n",
              "    <tr>\n",
              "      <th>8</th>\n",
              "      <td>17</td>\n",
              "    </tr>\n",
              "    <tr>\n",
              "      <th>9</th>\n",
              "      <td>92</td>\n",
              "    </tr>\n",
              "    <tr>\n",
              "      <th>10</th>\n",
              "      <td>195</td>\n",
              "    </tr>\n",
              "    <tr>\n",
              "      <th>11</th>\n",
              "      <td>129</td>\n",
              "    </tr>\n",
              "    <tr>\n",
              "      <th>12</th>\n",
              "      <td>388</td>\n",
              "    </tr>\n",
              "    <tr>\n",
              "      <th>13</th>\n",
              "      <td>142</td>\n",
              "    </tr>\n",
              "    <tr>\n",
              "      <th>14</th>\n",
              "      <td>302</td>\n",
              "    </tr>\n",
              "    <tr>\n",
              "      <th>15</th>\n",
              "      <td>144</td>\n",
              "    </tr>\n",
              "    <tr>\n",
              "      <th>16</th>\n",
              "      <td>241</td>\n",
              "    </tr>\n",
              "    <tr>\n",
              "      <th>17</th>\n",
              "      <td>502</td>\n",
              "    </tr>\n",
              "    <tr>\n",
              "      <th>18</th>\n",
              "      <td>70</td>\n",
              "    </tr>\n",
              "    <tr>\n",
              "      <th>19</th>\n",
              "      <td>72</td>\n",
              "    </tr>\n",
              "    <tr>\n",
              "      <th>20</th>\n",
              "      <td>281</td>\n",
              "    </tr>\n",
              "  </tbody>\n",
              "</table>\n",
              "</div>"
            ],
            "text/plain": [
              "                     No.of Users\n",
              "Occupation Category             \n",
              "0                            711\n",
              "1                            528\n",
              "2                            267\n",
              "3                            173\n",
              "4                            759\n",
              "5                            112\n",
              "6                            236\n",
              "7                            679\n",
              "8                             17\n",
              "9                             92\n",
              "10                           195\n",
              "11                           129\n",
              "12                           388\n",
              "13                           142\n",
              "14                           302\n",
              "15                           144\n",
              "16                           241\n",
              "17                           502\n",
              "18                            70\n",
              "19                            72\n",
              "20                           281"
            ]
          },
          "metadata": {
            "tags": []
          },
          "execution_count": 22
        }
      ]
    },
    {
      "cell_type": "code",
      "metadata": {
        "colab": {
          "base_uri": "https://localhost:8080/"
        },
        "id": "PhL3iL1xTpIA",
        "outputId": "12685b01-e9fb-429f-a7a0-7b3ebdbd8bdf"
      },
      "source": [
        "Occupation[Occupation==Occupation.max()]"
      ],
      "execution_count": null,
      "outputs": [
        {
          "output_type": "execute_result",
          "data": {
            "text/plain": [
              "Occupation Category\n",
              "4    759\n",
              "Name: Occupation, dtype: int64"
            ]
          },
          "metadata": {
            "tags": []
          },
          "execution_count": 23
        }
      ]
    },
    {
      "cell_type": "markdown",
      "metadata": {
        "id": "ex9n296vIa6t"
      },
      "source": [
        "# Conclusion - \n",
        "Majority of users belong to age group of 25-34 (2096),are males(4331) & belong to category 4(\"college/grad student\") (759) in terms of Occupation"
      ]
    },
    {
      "cell_type": "markdown",
      "metadata": {
        "id": "3eZXcqo1Ia6u"
      },
      "source": [
        "# Building A Recommender System Using Restricted Boltzmann Machine To Make Binary Predictions (Like/Dislike) "
      ]
    },
    {
      "cell_type": "markdown",
      "metadata": {
        "id": "_rpeChwIy10M"
      },
      "source": [
        "# converting ratings into structure with users in lines and ratings in column"
      ]
    },
    {
      "cell_type": "code",
      "metadata": {
        "id": "-dUxBggbonLm"
      },
      "source": [
        "ratings= np.array(ratings, dtype= 'int')\n",
        "from sklearn.model_selection import train_test_split\n",
        "train_set,test_set =train_test_split(ratings ,test_size=0.2, random_state=1)"
      ],
      "execution_count": null,
      "outputs": []
    },
    {
      "cell_type": "code",
      "metadata": {
        "colab": {
          "base_uri": "https://localhost:8080/"
        },
        "id": "Pq2umaudjzhc",
        "outputId": "755398df-8ae3-4267-d45b-749207f12fbd"
      },
      "source": [
        "total_no_users = int(max(max(train_set[:,0]),max(test_set[:,0])))\n",
        "total_no_movies = int(max(max(train_set[:,1]),max(test_set[:,1])))\n",
        "print ('total_no_users : ' + str(total_no_users))\n",
        "print('total_no_movies : ' + str(total_no_movies))"
      ],
      "execution_count": null,
      "outputs": [
        {
          "output_type": "stream",
          "text": [
            "total_no_users : 6040\n",
            "total_no_movies : 3952\n"
          ],
          "name": "stdout"
        }
      ]
    },
    {
      "cell_type": "code",
      "metadata": {
        "id": "70_3-DbKsRYi"
      },
      "source": [
        "def modify(data):\n",
        "    list_of_lists =[]\n",
        "    for i in range (1,total_no_users+1):\n",
        "        movie_id =data[:,1][data[:,0]==i]\n",
        "        movie_ratings =data[:,2][data[:,0]==i]\n",
        "        new_rating_list= np.zeros(total_no_movies)\n",
        "        new_rating_list[movie_id-1]= movie_ratings\n",
        "        list_of_lists.append(list(new_rating_list))\n",
        "    return list_of_lists\n",
        "train_set = modify(train_set)\n",
        "test_set= modify(test_set)"
      ],
      "execution_count": null,
      "outputs": []
    },
    {
      "cell_type": "markdown",
      "metadata": {
        "id": "hojh20Dnztyy"
      },
      "source": [
        "# converting the structure to torch tensors"
      ]
    },
    {
      "cell_type": "code",
      "metadata": {
        "id": "MdkPGxi6lw8k"
      },
      "source": [
        "train_set = torch.FloatTensor(train_set)\n",
        "test_set = torch.FloatTensor(test_set)"
      ],
      "execution_count": null,
      "outputs": []
    },
    {
      "cell_type": "markdown",
      "metadata": {
        "id": "On7pTeUT0IV3"
      },
      "source": [
        "# Converting ratings to binary (1/0) values with non rated movies  as -1 rating"
      ]
    },
    {
      "cell_type": "code",
      "metadata": {
        "id": "bx4EgxG_mMwY"
      },
      "source": [
        "train_set[train_set == 0] = -1\n",
        "train_set[train_set == 1] = 0\n",
        "train_set[train_set == 2] = 0\n",
        "train_set[train_set >= 3] = 1\n",
        "test_set[test_set == 0] = -1\n",
        "test_set[test_set == 1] = 0\n",
        "test_set[test_set == 2] = 0\n",
        "test_set[test_set >= 3] = 1"
      ],
      "execution_count": null,
      "outputs": []
    },
    {
      "cell_type": "markdown",
      "metadata": {
        "id": "l-kdaGjU0Y9c"
      },
      "source": [
        "# Building the architecture of Network"
      ]
    },
    {
      "cell_type": "code",
      "metadata": {
        "id": "k3SIQA2amOIZ"
      },
      "source": [
        "class RestrictedBoltzmannMachine ():\n",
        "  def __init__(self,n_visnodes,n_hiddnodes):\n",
        "    self.W= torch.randn(n_hiddnodes,n_visnodes)\n",
        "    self.bias_v= torch.randn(1,n_visnodes)\n",
        "    self.bias_h= torch.randn(1,n_hiddnodes)\n",
        "  def hidnode_sampling(self,x):\n",
        "    wx=torch.mm(x,self.W.t())\n",
        "    lin_comb= wx + self.bias_h.expand_as(wx)\n",
        "    prob_sampling_h= torch.sigmoid(lin_comb)\n",
        "    return prob_sampling_h , torch.bernoulli(prob_sampling_h)\n",
        "  def visnode_sampling(self,y):\n",
        "    wy=torch.mm(y,self.W)\n",
        "    lin_comb= wy + self.bias_v.expand_as(wy)\n",
        "    prob_sampling_v = torch.sigmoid(lin_comb)\n",
        "    return prob_sampling_v , torch.bernoulli(prob_sampling_v)\n",
        "  def training(self,vis_node_i,vis_node_k,prob_hid_i, prob_hid_k):\n",
        "    self.W += (torch.mm(vis_node_i.t(),prob_hid_i) - torch.mm(vis_node_k.t(),prob_hid_k)).t()\n",
        "    self.bias_v += torch.sum((vis_node_i - vis_node_k),0)\n",
        "    self.bias_h += torch.sum((prob_hid_i - prob_hid_k),0)"
      ],
      "execution_count": null,
      "outputs": []
    },
    {
      "cell_type": "code",
      "metadata": {
        "id": "gJ3_0wphzVGb"
      },
      "source": [
        "n_visnodes = total_no_movies \n",
        "n_hiddnodes = 400\n",
        "batch_size = 200\n",
        "rbm = RestrictedBoltzmannMachine (n_visnodes,n_hiddnodes)"
      ],
      "execution_count": null,
      "outputs": []
    },
    {
      "cell_type": "markdown",
      "metadata": {
        "id": "z0m60HZM0i6I"
      },
      "source": [
        "# Training The Network"
      ]
    },
    {
      "cell_type": "code",
      "metadata": {
        "colab": {
          "base_uri": "https://localhost:8080/"
        },
        "id": "aLEtpvX1zM9m",
        "outputId": "6b2a52c5-aa40-4c6d-f918-fec9a01fd034"
      },
      "source": [
        "no_of_epochs = 15\n",
        "for epoch in range (1, no_of_epochs+1):\n",
        "  print ('Epoch no. :' + str (epoch))\n",
        "  loss_train = 0\n",
        "  counter = 0.\n",
        "  for user_id in range (0,total_no_users-batch_size,batch_size):\n",
        "    vis_node_i = train_set[ user_id : user_id + batch_size]\n",
        "    vis_node_k = train_set[ user_id : user_id + batch_size]\n",
        "    for k in range (20):\n",
        "      _,hid_node_k = rbm.hidnode_sampling(vis_node_k)\n",
        "      _,vis_node_k = rbm.visnode_sampling(hid_node_k)\n",
        "      vis_node_k [vis_node_i <0] = vis_node_i [vis_node_i<0]\n",
        "    prob_hid_i,_ = rbm.hidnode_sampling(vis_node_i)\n",
        "    prob_hid_k,_ = rbm.hidnode_sampling(vis_node_k)\n",
        "    rbm.training(vis_node_i,vis_node_k,prob_hid_i, prob_hid_k)\n",
        "    loss_train += torch.mean(torch.abs(vis_node_i[vis_node_i >=0] - vis_node_k[vis_node_i >=0]))\n",
        "    counter +=1.\n",
        "  print('train_loss :' + str (loss_train/counter) + 'Train_accuracy :' + str(1-(loss_train/counter)))"
      ],
      "execution_count": null,
      "outputs": [
        {
          "output_type": "stream",
          "text": [
            "Epoch no. :1\n",
            "train_loss :tensor(0.2288)Train_accuracy :tensor(0.7712)\n",
            "Epoch no. :2\n",
            "train_loss :tensor(0.2293)Train_accuracy :tensor(0.7707)\n",
            "Epoch no. :3\n",
            "train_loss :tensor(0.2267)Train_accuracy :tensor(0.7733)\n",
            "Epoch no. :4\n",
            "train_loss :tensor(0.2289)Train_accuracy :tensor(0.7711)\n",
            "Epoch no. :5\n",
            "train_loss :tensor(0.2289)Train_accuracy :tensor(0.7711)\n",
            "Epoch no. :6\n",
            "train_loss :tensor(0.2289)Train_accuracy :tensor(0.7711)\n",
            "Epoch no. :7\n",
            "train_loss :tensor(0.2283)Train_accuracy :tensor(0.7717)\n",
            "Epoch no. :8\n",
            "train_loss :tensor(0.2288)Train_accuracy :tensor(0.7712)\n",
            "Epoch no. :9\n",
            "train_loss :tensor(0.2280)Train_accuracy :tensor(0.7720)\n",
            "Epoch no. :10\n",
            "train_loss :tensor(0.2291)Train_accuracy :tensor(0.7709)\n",
            "Epoch no. :11\n",
            "train_loss :tensor(0.2284)Train_accuracy :tensor(0.7716)\n",
            "Epoch no. :12\n",
            "train_loss :tensor(0.2286)Train_accuracy :tensor(0.7714)\n",
            "Epoch no. :13\n",
            "train_loss :tensor(0.2292)Train_accuracy :tensor(0.7708)\n",
            "Epoch no. :14\n",
            "train_loss :tensor(0.2285)Train_accuracy :tensor(0.7715)\n",
            "Epoch no. :15\n",
            "train_loss :tensor(0.2288)Train_accuracy :tensor(0.7712)\n"
          ],
          "name": "stdout"
        }
      ]
    },
    {
      "cell_type": "markdown",
      "metadata": {
        "id": "2WHCyP011CTF"
      },
      "source": [
        "# Testing the Network "
      ]
    },
    {
      "cell_type": "code",
      "metadata": {
        "colab": {
          "base_uri": "https://localhost:8080/"
        },
        "id": "fjJfgYDpy2nl",
        "outputId": "b68ee8b1-107d-4e1c-c313-63670122511a"
      },
      "source": [
        "loss_test = 0\n",
        "counter = 0.\n",
        "for user_id in range (total_no_users):\n",
        "  vis_node_i = test_set[ user_id : user_id +1]\n",
        "  vis_node = train_set[ user_id : user_id+1]\n",
        "  if len(vis_node_i[vis_node_i >=0]) >0:\n",
        "    _,hid_node = rbm.hidnode_sampling(vis_node)\n",
        "    _,vis_node = rbm.visnode_sampling(hid_node)\n",
        "    loss_test += torch.mean(torch.abs(vis_node_i[vis_node_i >=0] - vis_node[vis_node_i >=0]))\n",
        "    counter +=1.\n",
        "print('test_loss :' + str (loss_test/counter) + 'Test_accuracy :' + str(1-(loss_test/counter)))"
      ],
      "execution_count": null,
      "outputs": [
        {
          "output_type": "stream",
          "text": [
            "test_loss :tensor(0.2026)Test_accuracy :tensor(0.7974)\n"
          ],
          "name": "stdout"
        }
      ]
    },
    {
      "cell_type": "markdown",
      "metadata": {
        "id": "LSFQZlmK5IK4"
      },
      "source": [
        "# Comments -"
      ]
    },
    {
      "cell_type": "markdown",
      "metadata": {
        "id": "FH_5QsQW5L6X"
      },
      "source": [
        "The above model is a movie recommender system that predicts binary ratings(Like/Dislike) for movies not watched by an user based on earlier watched + rated movies .Restricted Boltzmann machine lies as the fundamental neural network behind the creation of this model.After importing the data and following data pre-processing (including train-test (80:20) split,etc), I converted them into a structured arraywhere the rows correspond to users, columns correspond to movies and cell(u,i) correspond to ratings (1-5) for ith movie by uth user.\n",
        "This was then converted into torch tensor as PyTorch is the used library in buliding network. The train_set and test_set are of same dimension(6040 x 3952) which contains all users as well as the ratings of all movies by them respectively. (Note - The ratings of movies that aren't present in train_set might be found in test_set). Since we are oriented in prediting binary outcomes, thus I converted ratings (1,2) =0 (disliked) , (>=3) =1 (liked) & non rated movies=-1 as input should be in same structure as expected output. \n",
        "The training took place using K-Contrastive divergence algorithm via Gibbs Sampling. While testing the model input was set as train set, predicting the ratings for non-rated movies of train set which was then compared with the actual ratings of those movies present in test set. To evaluate the model mean of simple diference b/w value was taken as error.\n",
        "Thus after testing I obtained accuracy as 0.7974 or 79.74% in overall.\n"
      ]
    }
  ]
}